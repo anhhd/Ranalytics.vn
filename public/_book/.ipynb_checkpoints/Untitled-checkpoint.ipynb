{
 "cells": [
  {
   "cell_type": "code",
   "execution_count": 1,
   "metadata": {},
   "outputs": [
    {
     "ename": "SyntaxError",
     "evalue": "invalid syntax (<ipython-input-1-350d29b4de86>, line 1)",
     "output_type": "error",
     "traceback": [
      "\u001b[1;36m  File \u001b[1;32m\"<ipython-input-1-350d29b4de86>\"\u001b[1;36m, line \u001b[1;32m1\u001b[0m\n\u001b[1;33m    <img src=\"\u001b[0m\n\u001b[1;37m    ^\u001b[0m\n\u001b[1;31mSyntaxError\u001b[0m\u001b[1;31m:\u001b[0m invalid syntax\n"
     ]
    }
   ],
   "source": [
    "<img src=\"\n",
    "\" width=\"672\" />"
   ]
  },
  {
   "cell_type": "code",
   "execution_count": 4,
   "metadata": {},
   "outputs": [],
   "source": [
    "import os, fnmatch\n",
    "def findReplace(directory, find, replace, filePattern):\n",
    "    for path, dirs, files in os.walk(os.path.abspath(directory)):\n",
    "        for filename in fnmatch.filter(files, filePattern):\n",
    "            filepath = os.path.join(path, filename)\n",
    "            with open(filepath) as f:\n",
    "                s = f.read()\n",
    "            s = s.replace(find, replace)\n",
    "            with open(filepath, \"w\") as f:\n",
    "                f.write(s)"
   ]
  },
  {
   "cell_type": "code",
   "execution_count": 10,
   "metadata": {},
   "outputs": [],
   "source": [
    "filePattern = \".md\""
   ]
  },
  {
   "cell_type": "code",
   "execution_count": 14,
   "metadata": {},
   "outputs": [],
   "source": [
    "import os\n",
    "directory = os.getcwd()"
   ]
  },
  {
   "cell_type": "code",
   "execution_count": 17,
   "metadata": {},
   "outputs": [
    {
     "name": "stdout",
     "output_type": "stream",
     "text": [
      " Volume in drive F is Setup\n",
      " Volume Serial Number is 5437-230D\n",
      "\n",
      " Directory of F:\\OneDrive - VPBank\\01. Personal projects\\01-data-science-r-book\\_book\n",
      "\n"
     ]
    },
    {
     "name": "stderr",
     "output_type": "stream",
     "text": [
      "File Not Found\n"
     ]
    }
   ],
   "source": [
    "ls(\".md\")"
   ]
  },
  {
   "cell_type": "code",
   "execution_count": 53,
   "metadata": {},
   "outputs": [
    {
     "name": "stdout",
     "output_type": "stream",
     "text": [
      "\" width=\"672\" />\n",
      ")\n",
      "\n",
      "\n"
     ]
    }
   ],
   "source": [
    "find = '\" width=\"672\" />'\n",
    "print(find)\n",
    "replace = \")\\n\\n\"\n",
    "print(replace)"
   ]
  },
  {
   "cell_type": "code",
   "execution_count": 52,
   "metadata": {},
   "outputs": [
    {
     "name": "stdout",
     "output_type": "stream",
     "text": [
      "01-gioi-thieu.md\n",
      "03-bien-doi-du-lieu-dplyr.md\n",
      "04-phan-ra-va-xoay-chieu-du-lieu.md\n",
      "05-cac-chi-so-thong-ke.md\n",
      "06-lap-trinh-ham.md\n",
      "07-lap-trinh-ham-voi-purrr.md\n",
      "08-bien-doi-du-lieu-text.md\n",
      "11-quan-ly-nhieu-mo-hinh.md\n",
      "40-nguyen-ly-du-bao.md\n",
      "41-mo-hinh-ols.md\n",
      "42-logistic-regression.md\n",
      "52-unsupervised-learning.md\n",
      "54-basket-analysis.md\n",
      "55-feature-engineering.md\n",
      "60-chuoi-thoi-gian.md\n",
      "61-arima.md\n",
      "61-phan-tich-chuoi-thoi-gian-voi-tidyquant.md\n",
      "71-casestudy-truc-quan-hoa.md\n",
      "89-meo-trong-r.md\n",
      "index.md\n"
     ]
    }
   ],
   "source": [
    "import glob, os\n",
    "#os.chdir(\"/mydir\")\n",
    "for file in glob.glob(\"*.md\"):\n",
    "    print(file)\n",
    "    with open(file, encoding=\"utf8\") as f:\n",
    "        s = f.read()\n",
    "        s = s.replace(find, replace)\n",
    "    with open(file,'w', encoding=\"utf8\") as f:\n",
    "        f.write(s)"
   ]
  },
  {
   "cell_type": "code",
   "execution_count": 44,
   "metadata": {},
   "outputs": [
    {
     "name": "stdout",
     "output_type": "stream",
     "text": [
      "41-mo-hinh-ols.md\n"
     ]
    }
   ],
   "source": [
    "file = '41-mo-hinh-ols.md'\n",
    "print(file)\n",
    "with open(file, encoding=\"utf8\") as f:\n",
    "    s = f.read()\n",
    "    s = s.replace(find, replace)\n",
    "with open(file,'w', encoding=\"utf8\") as f:\n",
    "    f.write(s)"
   ]
  },
  {
   "cell_type": "code",
   "execution_count": 46,
   "metadata": {},
   "outputs": [
    {
     "data": {
      "text/plain": [
       "'![]()'"
      ]
     },
     "execution_count": 46,
     "metadata": {},
     "output_type": "execute_result"
    }
   ],
   "source": [
    "replace"
   ]
  },
  {
   "cell_type": "code",
   "execution_count": 57,
   "metadata": {},
   "outputs": [],
   "source": [
    "def replace_md(file, find, replace):\n",
    "    with open(file, encoding=\"utf8\") as f:\n",
    "        s = f.read()\n",
    "        s = s.replace(find, replace)\n",
    "    with open(file,'w', encoding=\"utf8\") as f:\n",
    "        f.write(s)"
   ]
  },
  {
   "cell_type": "code",
   "execution_count": null,
   "metadata": {},
   "outputs": [],
   "source": [
    "import glob, os\n",
    "for file in glob.glob(\"*.md\"):\n",
    "    replace_md(file = file, find = '<img src=\"', replace = '![](')\n",
    "    replace_md(file = file, find = '\" width=\"672\" />', replace = ')\\n\\n')"
   ]
  }
 ],
 "metadata": {
  "kernelspec": {
   "display_name": "Python 3",
   "language": "python",
   "name": "python3"
  },
  "language_info": {
   "codemirror_mode": {
    "name": "ipython",
    "version": 3
   },
   "file_extension": ".py",
   "mimetype": "text/x-python",
   "name": "python",
   "nbconvert_exporter": "python",
   "pygments_lexer": "ipython3",
   "version": "3.7.1"
  }
 },
 "nbformat": 4,
 "nbformat_minor": 2
}
